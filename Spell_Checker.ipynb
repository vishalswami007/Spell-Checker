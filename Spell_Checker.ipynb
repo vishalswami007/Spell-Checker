{
 "cells": [
  {
   "cell_type": "code",
   "execution_count": 2,
   "id": "6ad96b7b",
   "metadata": {},
   "outputs": [],
   "source": [
    "import re\n",
    "from tqdm import tqdm\n",
    "import pandas as pd"
   ]
  },
  {
   "cell_type": "code",
   "execution_count": 3,
   "id": "1d65e1e6",
   "metadata": {},
   "outputs": [
    {
     "name": "stdout",
     "output_type": "stream",
     "text": [
      "Total words in big txt :  1115585\n",
      "Total unique words :  32198\n"
     ]
    }
   ],
   "source": [
    "with open('big.txt', 'r') as fd:\n",
    "    lines = fd.readlines()\n",
    "    words = []\n",
    "    for l in lines:\n",
    "        words+= re.findall('\\w+',l.lower())\n",
    "\n",
    "print(\"Total words in big txt : \",len(words))\n",
    "vocab = list(set(words))\n",
    "print(\"Total unique words : \",len(vocab))"
   ]
  },
  {
   "cell_type": "code",
   "execution_count": 4,
   "id": "c6530fa7",
   "metadata": {},
   "outputs": [
    {
     "name": "stderr",
     "output_type": "stream",
     "text": [
      "100%|██████████| 32198/32198 [13:19<00:00, 40.28it/s]\n"
     ]
    }
   ],
   "source": [
    "word_prob = {}\n",
    "\n",
    "for w in tqdm(vocab):\n",
    "    word_prob[w] = float(words.count(w)/len(words))"
   ]
  },
  {
   "cell_type": "code",
   "execution_count": 6,
   "id": "d040353e",
   "metadata": {},
   "outputs": [],
   "source": [
    "def split(word):\n",
    "    parts = []\n",
    "    for i in range(len(word)+1):\n",
    "        parts+=[(word[:i],word[i:])]\n",
    "    return parts"
   ]
  },
  {
   "cell_type": "code",
   "execution_count": 7,
   "id": "4c865c49",
   "metadata": {},
   "outputs": [],
   "source": [
    "def delete(word):\n",
    "    output = []\n",
    "    for l,r in split(word):\n",
    "        output.append(l+r[1:])\n",
    "    return output\n"
   ]
  },
  {
   "cell_type": "code",
   "execution_count": 8,
   "id": "88c71519",
   "metadata": {},
   "outputs": [],
   "source": [
    "def swap(word):\n",
    "    output = []\n",
    "    for l,r in split(word):\n",
    "        if (len(r)>1):\n",
    "            output.append(l+r[1]+r[0]+r[2:])\n",
    "    return output"
   ]
  },
  {
   "cell_type": "code",
   "execution_count": 16,
   "id": "39f0fd23",
   "metadata": {},
   "outputs": [],
   "source": [
    "def replace(word):\n",
    "    charac = 'abcdefghijklmnopqrstuvwxyz'\n",
    "    output = []\n",
    "    for l,r in split(word):\n",
    "        for ch in charac:\n",
    "            output.append(l+ch+r[1:])\n",
    "    return output\n"
   ]
  },
  {
   "cell_type": "code",
   "execution_count": 14,
   "id": "72b01c65",
   "metadata": {},
   "outputs": [],
   "source": [
    "def insert(word):\n",
    "    charac = 'abcdefghijklmnopqrstuvwxyz'\n",
    "    output = []\n",
    "    for l,r in split(word):\n",
    "        for ch in charac:\n",
    "            output.append(l+ch+r)\n",
    "    return output\n"
   ]
  },
  {
   "cell_type": "markdown",
   "id": "df01ed72",
   "metadata": {},
   "source": [
    "# #predicting the word (level-1)"
   ]
  },
  {
   "cell_type": "code",
   "execution_count": 11,
   "id": "a9749121",
   "metadata": {},
   "outputs": [],
   "source": [
    "def edit(word):\n",
    "    return list(set(insert(word) + delete(word) + replace(word) + swap(word)))"
   ]
  },
  {
   "cell_type": "code",
   "execution_count": 12,
   "id": "1124a003",
   "metadata": {},
   "outputs": [],
   "source": [
    "def spell_check_edit_1(word,count=5):\n",
    "    output = []\n",
    "    sug_word = edit(word)\n",
    "    for wrd in sug_word:\n",
    "        if wrd in word_prob.keys():\n",
    "            output.append([wrd,word_prob[wrd]])\n",
    "    return list(pd.DataFrame(output,columns=['word','prob']).sort_values(by='prob',ascending=False).head(count)['word'].values)"
   ]
  },
  {
   "cell_type": "code",
   "execution_count": 17,
   "id": "9936b0ca",
   "metadata": {},
   "outputs": [
    {
     "data": {
      "text/plain": [
       "['visual']"
      ]
     },
     "execution_count": 17,
     "metadata": {},
     "output_type": "execute_result"
    }
   ],
   "source": [
    "spell_check_edit_1('vishal')"
   ]
  },
  {
   "cell_type": "markdown",
   "id": "2d728a57",
   "metadata": {},
   "source": [
    "# #Predicting the word(level-2)"
   ]
  },
  {
   "cell_type": "code",
   "execution_count": 20,
   "id": "207ede46",
   "metadata": {},
   "outputs": [
    {
     "data": {
      "text/plain": [
       "['vital', 'distal', 'fiscal', 'dismal', 'vista']"
      ]
     },
     "execution_count": 20,
     "metadata": {},
     "output_type": "execute_result"
    }
   ],
   "source": [
    "def spell_check_edit_2(word, count = 5):\n",
    "    \n",
    "    output = []\n",
    "    suggested_words = edit(word)      \n",
    "    \n",
    "    for e1 in edit(word):\n",
    "        suggested_words += edit(e1)    \n",
    "    \n",
    "    suggested_words = list(set(suggested_words))\n",
    "    \n",
    "    for wrd in suggested_words:\n",
    "        if wrd in word_prob.keys():\n",
    "            output.append([wrd, word_prob[wrd]])\n",
    "    return list(pd.DataFrame(output, columns = ['word','prob']).sort_values(by = 'prob', ascending = False).head(count)['word'].values)\n",
    "        \n",
    "spell_check_edit_2('vishal')"
   ]
  }
 ],
 "metadata": {
  "kernelspec": {
   "display_name": "Python 3 (ipykernel)",
   "language": "python",
   "name": "python3"
  },
  "language_info": {
   "codemirror_mode": {
    "name": "ipython",
    "version": 3
   },
   "file_extension": ".py",
   "mimetype": "text/x-python",
   "name": "python",
   "nbconvert_exporter": "python",
   "pygments_lexer": "ipython3",
   "version": "3.9.13"
  }
 },
 "nbformat": 4,
 "nbformat_minor": 5
}
